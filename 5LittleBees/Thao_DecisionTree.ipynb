{
 "cells": [
  {
   "cell_type": "markdown",
   "id": "1d01d5ea",
   "metadata": {},
   "source": [
    "DECISION TREE\n",
    "- Architecture: A decision tree is drawn upside down with its root at the top. Include the internal/root node, based on which the tree splits into branches and leaves\n",
    "\n",
    "- How it works:\n",
    "+ usage: make prediction\n",
    "+ how to split: all the features are considered and different split points are tried and tested using a cost function and the split with the best cost (or lowest cost) is selected\n",
    "+ when stop: max_depth, min_samples_split, min_samples_leaf,...\n",
    "+ Bad: sensitive to training set rotation and small variations in the training data\n"
   ]
  },
  {
   "cell_type": "code",
   "execution_count": 132,
   "id": "914eb38d",
   "metadata": {},
   "outputs": [],
   "source": [
    "import pandas as pd\n",
    "import matplotlib.pyplot as plt\n",
    "from sklearn.preprocessing import Normalizer\n",
    "from sklearn.preprocessing import StandardScaler\n",
    "from sklearn.preprocessing import MaxAbsScaler\n",
    "from sklearn.preprocessing import MinMaxScaler\n",
    "from sklearn.preprocessing import RobustScaler\n",
    "from sklearn.tree import DecisionTreeClassifier\n",
    "from sklearn.model_selection import train_test_split \n",
    "from sklearn import metrics\n",
    "from sklearn.metrics import roc_curve\n",
    "from sklearn.metrics import RocCurveDisplay"
   ]
  },
  {
   "cell_type": "code",
   "execution_count": 247,
   "id": "efd3ec0b",
   "metadata": {},
   "outputs": [],
   "source": [
    "#Read data\n",
    "red_wine = pd.read_csv('/Users/hoangminhthao/Documents/GitHub/WineQuality/Data set/winequality-red.csv', sep=';')\n",
    "red_wine_feature = red_wine.drop(columns = ['quality'])\n",
    "red_wine_label = red_wine['quality']\n",
    "\n",
    "# Splitting the dataset into training and test set.  \n",
    "rwf_train, rwf_test, rwl_train, rwl_test = train_test_split(red_wine_feature, red_wine_label, test_size= 0.2, random_state=20)  \n"
   ]
  },
  {
   "cell_type": "code",
   "execution_count": 248,
   "id": "655dcd42",
   "metadata": {},
   "outputs": [
    {
     "name": "stdout",
     "output_type": "stream",
     "text": [
      "[[ 0  0  0  1  0  0]\n",
      " [ 0  0  4  2  1  0]\n",
      " [ 1  4 90 31  4  0]\n",
      " [ 0  3 36 77 16  4]\n",
      " [ 0  2  5 13 24  0]\n",
      " [ 0  0  0  2  0  0]]\n",
      "0.596875\n"
     ]
    }
   ],
   "source": [
    "#ML without Scaler\n",
    "wine_tree = DecisionTreeClassifier()\n",
    "wine_tree.fit(rwf_train,rwl_train)\n",
    "\n",
    "wine_predict = wine_tree.predict(rwf_test)\n",
    "cm = metrics.confusion_matrix(rwl_test, wine_predict)\n",
    "print(cm)\n",
    "Accuracy = metrics.accuracy_score(rwl_test, wine_predict)\n",
    "print(Accuracy)"
   ]
  },
  {
   "cell_type": "code",
   "execution_count": 252,
   "id": "7bc5bcda",
   "metadata": {},
   "outputs": [
    {
     "data": {
      "text/plain": [
       "'\\nst_x= StandardScaler()    \\nx_train= st_x.fit_transform(x_train)    \\nx_test= st_x.transform(x_test)  \\n'"
      ]
     },
     "execution_count": 252,
     "metadata": {},
     "output_type": "execute_result"
    }
   ],
   "source": [
    "#feature Scaling \n",
    "def scaling (data_train, data_test, scaler_name):\n",
    "    transfer = scaler_name().fit(data_train)\n",
    "    data_train = transfer.fit_transform(data_train)\n",
    "    transfer = scaler_name().fit(data_test)\n",
    "    data_test = transfer.fit_transform(data_test)\n",
    "    return data_train, data_test\n",
    "\n",
    "Scaler = [RobustScaler, MinMaxScaler, MaxAbsScaler, StandardScaler, Normalizer]\n",
    "rwf_train_sca = [0,0,0,0,0]\n",
    "rwf_test_sca = [1,1,1,1,1]\n",
    "for i in range (0, 5):\n",
    "    rwf_train_sca[i], rwf_test_sca[i] = scaling (rwf_train, rwf_test, Scaler[i])\n",
    "\n",
    "'''\n",
    "st_x= StandardScaler()    \n",
    "x_train= st_x.fit_transform(x_train)    \n",
    "x_test= st_x.transform(x_test)  \n",
    "'''"
   ]
  },
  {
   "cell_type": "code",
   "execution_count": 253,
   "id": "c1720de1",
   "metadata": {},
   "outputs": [
    {
     "name": "stdout",
     "output_type": "stream",
     "text": [
      "0.4625 0.22968428630193335\n"
     ]
    },
    {
     "data": {
      "text/plain": [
       "'\\nPrecision = metrics.precision_score(rwl_test, wine_predict)\\nRecall = metrics.recall_score(rwl_test, wine_predict)\\nF1_score = metrics.f1_score(rwl_test, wine_predict)\\nprint(Precision, Recall, F1_score)\\n'"
      ]
     },
     "execution_count": 253,
     "metadata": {},
     "output_type": "execute_result"
    }
   ],
   "source": [
    "#ML with Scaler\n",
    "wine_tree = DecisionTreeClassifier()\n",
    "wine_tree.fit(rwf_train_sca[1],rwl_train)\n",
    "wine_predict = wine_tree.predict(rwf_test_sca[1])\n",
    "\n",
    "#Evaluate\n",
    "Accuracy = metrics.accuracy_score(rwl_test, wine_predict)\n",
    "Balanced_accuracy = metrics.balanced_accuracy_score(rwl_test, wine_predict)\n",
    "print(Accuracy, Balanced_accuracy)\n",
    "\n",
    "'''\n",
    "Precision = metrics.precision_score(rwl_test, wine_predict)\n",
    "Recall = metrics.recall_score(rwl_test, wine_predict)\n",
    "F1_score = metrics.f1_score(rwl_test, wine_predict)\n",
    "print(Precision, Recall, F1_score)\n",
    "'''"
   ]
  },
  {
   "cell_type": "code",
   "execution_count": 254,
   "id": "d0ca0c44",
   "metadata": {},
   "outputs": [
    {
     "data": {
      "image/png": "[encoded data removed]",
      "text/plain": [
       "<Figure size 432x288 with 1 Axes>"
      ]
     },
     "metadata": {
      "needs_background": "light"
     },
     "output_type": "display_data"
    }
   ],
   "source": [
    "#ROC and AUC\n",
    "fpr, tpr, _ = roc_curve(rwl_test, wine_predict, pos_label=wine_tree.classes_[1])\n",
    "roc_display = RocCurveDisplay(fpr=fpr, tpr=tpr).plot()"
   ]
  }
 ],
 "metadata": {
  "kernelspec": {
   "display_name": "Python 3.10.0 64-bit",
   "language": "python",
   "name": "python3"
  },
  "language_info": {
   "codemirror_mode": {
    "name": "ipython",
    "version": 3
   },
   "file_extension": ".py",
   "mimetype": "text/x-python",
   "name": "python",
   "nbconvert_exporter": "python",
   "pygments_lexer": "ipython3",
   "version": "3.10.0"
  },
  "vscode": {
   "interpreter": {
    "hash": "aee8b7b246df8f9039afb4144a1f6fd8d2ca17a180786b69acc140d282b71a49"
   }
  }
 },
 "nbformat": 4,
 "nbformat_minor": 5
}
