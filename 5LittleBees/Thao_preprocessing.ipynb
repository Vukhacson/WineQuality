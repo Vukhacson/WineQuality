{
 "cells": [
  {
   "cell_type": "code",
   "execution_count": 5,
   "id": "5b18d80e",
   "metadata": {},
   "outputs": [],
   "source": [
    "# Data Normalization: cleaning up the collected data (redundancy, duplicate) to make it more clear, easy to understand\n",
    "# Why: has many benefits when use such as easy to sort data, less storage\n",
    "\n",
    "import pandas as pd\n",
    "import matplotlib.pyplot as plt\n",
    "from sklearn.preprocessing import Normalizer\n",
    "from sklearn.preprocessing import StandardScaler\n",
    "\n",
    "red_wine = pd.read_csv('/Users/hoangminhthao/Documents/GitHub/WineQuality/Data set/winequality-red.csv', sep=';')"
   ]
  },
  {
   "cell_type": "code",
   "execution_count": 6,
   "id": "8d80369b",
   "metadata": {},
   "outputs": [
    {
     "data": {
      "text/plain": [
       "(array([  2.,   0.,   1.,   6.,   4.,   6.,   4.,   6.,  14.,   2.,   4.,\n",
       "          9.,  13.,  16.,  20.,  39.,  17.,  37.,  28.,  46.,  38.,  50.,\n",
       "         57., 111.,  44.,  52.,  46.,  49.,  53.,  42.,  68.,  45.,  40.,\n",
       "         26.,  19.,  27.,  24.,  34.,  59.,  29.,  16.,  22.,  17.,  14.,\n",
       "         17.,   9.,  41.,  23.,  10.,  19.,  11.,  21.,  12.,  24.,  10.,\n",
       "          8.,   3.,   9.,   5.,   7.,   5.,  25.,   3.,   3.,  12.,   7.,\n",
       "          1.,   4.,   5.,  11.,   4.,   4.,   5.,   2.,   3.,   0.,   6.,\n",
       "          1.,   1.,   0.,   2.,   1.,   0.,   1.,   0.,   1.,   0.,   0.,\n",
       "          0.,   0.,   0.,   0.,   2.,   0.,   0.,   0.,   2.,   2.,   0.,\n",
       "          1.]),\n",
       " array([-2.13704486, -2.07212292, -2.00720098, -1.94227904, -1.8773571 ,\n",
       "        -1.81243516, -1.74751322, -1.68259128, -1.61766934, -1.55274739,\n",
       "        -1.48782545, -1.42290351, -1.35798157, -1.29305963, -1.22813769,\n",
       "        -1.16321575, -1.09829381, -1.03337187, -0.96844993, -0.90352799,\n",
       "        -0.83860605, -0.77368411, -0.70876217, -0.64384023, -0.57891829,\n",
       "        -0.51399635, -0.44907441, -0.38415247, -0.31923053, -0.25430859,\n",
       "        -0.18938665, -0.12446471, -0.05954277,  0.00537917,  0.07030111,\n",
       "         0.13522305,  0.20014499,  0.26506693,  0.32998887,  0.39491081,\n",
       "         0.45983275,  0.52475469,  0.58967663,  0.65459857,  0.71952051,\n",
       "         0.78444245,  0.8493644 ,  0.91428634,  0.97920828,  1.04413022,\n",
       "         1.10905216,  1.1739741 ,  1.23889604,  1.30381798,  1.36873992,\n",
       "         1.43366186,  1.4985838 ,  1.56350574,  1.62842768,  1.69334962,\n",
       "         1.75827156,  1.8231935 ,  1.88811544,  1.95303738,  2.01795932,\n",
       "         2.08288126,  2.1478032 ,  2.21272514,  2.27764708,  2.34256902,\n",
       "         2.40749096,  2.4724129 ,  2.53733484,  2.60225678,  2.66717872,\n",
       "         2.73210066,  2.7970226 ,  2.86194454,  2.92686648,  2.99178842,\n",
       "         3.05671036,  3.1216323 ,  3.18655424,  3.25147618,  3.31639813,\n",
       "         3.38132007,  3.44624201,  3.51116395,  3.57608589,  3.64100783,\n",
       "         3.70592977,  3.77085171,  3.83577365,  3.90069559,  3.96561753,\n",
       "         4.03053947,  4.09546141,  4.16038335,  4.22530529,  4.29022723,\n",
       "         4.35514917]),\n",
       " <BarContainer object of 100 artists>)"
      ]
     },
     "execution_count": 6,
     "metadata": {},
     "output_type": "execute_result"
    },
    {
     "data": {
      "image/png": "[encoded data removed]",
      "text/plain": [
       "<Figure size 432x288 with 1 Axes>"
      ]
     },
     "metadata": {
      "needs_background": "light"
     },
     "output_type": "display_data"
    }
   ],
   "source": [
    "#Standardization: Standard Scaler will normalize the features so that each feature will have μ = 0 and σ = 1.\n",
    "\n",
    "'''\n",
    "def plots(df, feature, trans):\n",
    "    plt.figure(figsize = (13,5))\n",
    "    plt.subplot(121)\n",
    "    plt.hist(df[feature], bins=100)\n",
    "    plt.title(feature +' before ' + str(trans).split('(')[0])\n",
    "\n",
    "    plt.subplot(122)\n",
    "    p1 = trans.fit_transform(df[[feature]])\n",
    "    plt.hist(p1, bins =100)\n",
    "    plt.title(feature + ' after '+ str(trans).split('(')[0])\n",
    "\n",
    "for col in red_wine.columns:\n",
    "    plots(red_wine, col , StandardScaler())\n",
    "\n",
    "p1 = StandardScaler().fit_transform(red_wine[['fixed acidity']])\n",
    "plt.hist(p1, bins =100)\n",
    "'''\n",
    "\n",
    "red_wine_1 = StandardScaler().fit(red_wine)\n",
    "red_wine_1 = red_wine_1.transform(red_wine)\n",
    "red_wine_1 = pd.DataFrame(data=red_wine_1, columns = red_wine.columns)\n",
    "plt.hist(red_wine_1['fixed acidity'], bins =100)\n"
   ]
  },
  {
   "cell_type": "code",
   "execution_count": 9,
   "id": "3df7c178",
   "metadata": {},
   "outputs": [
    {
     "data": {
      "text/plain": [
       "(array([  2.,   0.,   1.,   6.,   4.,   6.,   4.,   6.,  14.,   2.,   4.,\n",
       "          9.,  13.,  16.,  20.,  39.,  17.,  37.,  28.,  46.,  38.,  50.,\n",
       "         57., 111.,  44.,  52.,  46.,  49.,  53.,  42.,  68.,  45.,  40.,\n",
       "         26.,  19.,  27.,  24.,  34.,  59.,  29.,  16.,  22.,  17.,  14.,\n",
       "         17.,   9.,  41.,  23.,  10.,  19.,  11.,  21.,  12.,  24.,  10.,\n",
       "          8.,   3.,   9.,   5.,   7.,   5.,  25.,   3.,   3.,  12.,   7.,\n",
       "          1.,   4.,   5.,  11.,   4.,   4.,   5.,   2.,   3.,   0.,   6.,\n",
       "          1.,   1.,   0.,   2.,   1.,   0.,   1.,   0.,   1.,   0.,   0.,\n",
       "          0.,   0.,   0.,   0.,   2.,   0.,   0.,   0.,   2.,   2.,   0.,\n",
       "          1.]),\n",
       " array([ 4.6  ,  4.713,  4.826,  4.939,  5.052,  5.165,  5.278,  5.391,\n",
       "         5.504,  5.617,  5.73 ,  5.843,  5.956,  6.069,  6.182,  6.295,\n",
       "         6.408,  6.521,  6.634,  6.747,  6.86 ,  6.973,  7.086,  7.199,\n",
       "         7.312,  7.425,  7.538,  7.651,  7.764,  7.877,  7.99 ,  8.103,\n",
       "         8.216,  8.329,  8.442,  8.555,  8.668,  8.781,  8.894,  9.007,\n",
       "         9.12 ,  9.233,  9.346,  9.459,  9.572,  9.685,  9.798,  9.911,\n",
       "        10.024, 10.137, 10.25 , 10.363, 10.476, 10.589, 10.702, 10.815,\n",
       "        10.928, 11.041, 11.154, 11.267, 11.38 , 11.493, 11.606, 11.719,\n",
       "        11.832, 11.945, 12.058, 12.171, 12.284, 12.397, 12.51 , 12.623,\n",
       "        12.736, 12.849, 12.962, 13.075, 13.188, 13.301, 13.414, 13.527,\n",
       "        13.64 , 13.753, 13.866, 13.979, 14.092, 14.205, 14.318, 14.431,\n",
       "        14.544, 14.657, 14.77 , 14.883, 14.996, 15.109, 15.222, 15.335,\n",
       "        15.448, 15.561, 15.674, 15.787, 15.9  ]),\n",
       " <BarContainer object of 100 artists>)"
      ]
     },
     "execution_count": 9,
     "metadata": {},
     "output_type": "execute_result"
    },
    {
     "data": {
      "image/png": "[encoded data removed]",
      "text/plain": [
       "<Figure size 936x360 with 2 Axes>"
      ]
     },
     "metadata": {
      "needs_background": "light"
     },
     "output_type": "display_data"
    }
   ],
   "source": [
    "#Normalizer: Normalize samples individually to unit norm - each sample (i.e. each row of the data matrix) with at least one non zero component will be rescaled independently of other samples so that its norm equals one. Data will become a single array-like dataset, either using the l1, l2, or max norm.\n",
    "\n",
    "'''\n",
    "def plots(df, feature, trans):\n",
    "    plt.figure(figsize = (13,5))\n",
    "    plt.subplot(121)\n",
    "    plt.hist(df[feature], bins=100)\n",
    "    plt.title(feature +' before ' + str(trans).split('(')[0])\n",
    "\n",
    "    plt.subplot(122)\n",
    "    p1 = trans.fit_transform(df[[feature]])\n",
    "    plt.hist(p1, bins =100)\n",
    "    plt.title(feature + ' after '+ str(trans).split('(')[0])\n",
    "\n",
    "for col in red_wine.columns:\n",
    "    plots(red_wine, col ,  Normalizer())\n",
    "'''   \n",
    "\n",
    "red_wine_1 = Normalizer().fit(red_wine)\n",
    "red_wine_1 = red_wine_1.transform(red_wine)\n",
    "red_wine_1 = pd.DataFrame(data=red_wine_1, columns = red_wine.columns)\n",
    "plt.figure(figsize = (13,5))\n",
    "plt.subplot(121)\n",
    "plt.hist(red_wine_1['fixed acidity'], bins =100)\n",
    "plt.subplot(122)\n",
    "plt.hist(red_wine['fixed acidity'], bins =100)"
   ]
  },
  {
   "cell_type": "code",
   "execution_count": null,
   "id": "db3ec1f3",
   "metadata": {},
   "outputs": [],
   "source": []
  }
 ],
 "metadata": {
  "kernelspec": {
   "display_name": "Python 3 (ipykernel)",
   "language": "python",
   "name": "python3"
  },
  "language_info": {
   "codemirror_mode": {
    "name": "ipython",
    "version": 3
   },
   "file_extension": ".py",
   "mimetype": "text/x-python",
   "name": "python",
   "nbconvert_exporter": "python",
   "pygments_lexer": "ipython3",
   "version": "3.10.0"
  },
  "vscode": {
   "interpreter": {
    "hash": "aee8b7b246df8f9039afb4144a1f6fd8d2ca17a180786b69acc140d282b71a49"
   }
  }
 },
 "nbformat": 4,
 "nbformat_minor": 5
}
