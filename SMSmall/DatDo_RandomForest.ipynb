{
 "cells": [
  {
   "cell_type": "code",
   "execution_count": 10,
   "id": "5bb72bcb",
   "metadata": {},
   "outputs": [],
   "source": [
    "import os\n",
    "import pandas as pd\n",
    "import matplotlib.pyplot as plt\n",
    "\n",
    "import numpy as np\n",
    "\n",
    "from sklearn import datasets\n",
    "from sklearn.preprocessing import StandardScaler\n",
    "\n",
    "from sklearn.ensemble import RandomForestClassifier\n",
    "from sklearn.ensemble import VotingClassifier\n",
    "from sklearn.linear_model import LinearRegression\n",
    "from sklearn.linear_model import LogisticRegression\n",
    "from sklearn.svm import SVC\n",
    "from sklearn.svm import LinearSVC\n",
    "from sklearn.pipeline import Pipeline\n",
    "\n",
    "from sklearn.metrics import mean_squared_error\n",
    "from sklearn.model_selection import train_test_split"
   ]
  },
  {
   "cell_type": "code",
   "execution_count": 5,
   "id": "e5e44639",
   "metadata": {},
   "outputs": [],
   "source": [
    "from sklearn.datasets import make_moons\n",
    "from sklearn.pipeline import Pipeline\n",
    "from sklearn.preprocessing import PolynomialFeatures"
   ]
  },
  {
   "cell_type": "code",
   "execution_count": 6,
   "id": "baff445d",
   "metadata": {},
   "outputs": [
    {
     "name": "stdout",
     "output_type": "stream",
     "text": [
      "G:\\Learning resource\\Github\\WineQuality\n",
      "G:\\Learning resource\\Github\\WineQuality\\Data set\n"
     ]
    }
   ],
   "source": [
    "def load_wine_data(path_to_dir, filename, csv_separator):\n",
    "    csv_path = os.path.join(path_to_dir, filename)\n",
    "    return pd.read_csv(csv_path, sep=csv_separator)\n",
    "#os.path.dirname(path) return the parent directory of the given path\n",
    "PARENT_DIR = os.path.dirname(os.getcwd())\n",
    "WINE_DIR = os.path.join(PARENT_DIR, \"Data set\")\n",
    "print(PARENT_DIR)\n",
    "print(WINE_DIR)"
   ]
  },
  {
   "cell_type": "code",
   "execution_count": 9,
   "id": "5a7f1b6b",
   "metadata": {},
   "outputs": [],
   "source": [
    "df_red_wine = load_wine_data(WINE_DIR, \"winequality-red.csv\", \";\")\n",
    "df_white_wine = load_wine_data(WINE_DIR, \"winequality-white.csv\", \";\")"
   ]
  },
  {
   "cell_type": "code",
   "execution_count": 49,
   "id": "c82606e4",
   "metadata": {},
   "outputs": [
    {
     "name": "stdout",
     "output_type": "stream",
     "text": [
      "            0         1         2         3         4         5         6   \\\n",
      "0    -0.528360  0.961877 -1.391472 -0.453218 -0.243707 -0.466193 -0.379133   \n",
      "1    -0.298547  1.967442 -1.391472  0.043416  0.223875  0.872638  0.624363   \n",
      "2    -0.298547  1.297065 -1.186070 -0.169427  0.096353 -0.083669  0.229047   \n",
      "3     1.654856 -1.384443  1.484154 -0.453218 -0.264960  0.107592  0.411500   \n",
      "4    -0.528360  0.961877 -1.391472 -0.453218 -0.243707 -0.466193 -0.379133   \n",
      "...        ...       ...       ...       ...       ...       ...       ...   \n",
      "1594 -1.217796  0.403229 -0.980669 -0.382271  0.053845  1.542054 -0.075043   \n",
      "1595 -1.390155  0.123905 -0.877968 -0.240375 -0.541259  2.211469  0.137820   \n",
      "1596 -1.160343 -0.099554 -0.723916 -0.169427 -0.243707  1.255161 -0.196679   \n",
      "1597 -1.390155  0.654620 -0.775267 -0.382271 -0.264960  1.542054 -0.075043   \n",
      "1598 -1.332702 -1.216849  1.021999  0.752894 -0.434990  0.203223 -0.135861   \n",
      "\n",
      "            7         8         9         10        11  \n",
      "0     0.558274  1.288643 -0.579207 -0.960246 -0.787823  \n",
      "1     0.028261 -0.719933  0.128950 -0.584777 -0.787823  \n",
      "2     0.134264 -0.331177 -0.048089 -0.584777 -0.787823  \n",
      "3     0.664277 -0.979104 -0.461180 -0.584777  0.450848  \n",
      "4     0.558274  1.288643 -0.579207 -0.960246 -0.787823  \n",
      "...        ...       ...       ...       ...       ...  \n",
      "1594 -0.978765  0.899886 -0.461180  0.072294 -0.787823  \n",
      "1595 -0.862162  1.353436  0.601055  0.729364  0.450848  \n",
      "1596 -0.533554  0.705508  0.542042  0.541630  0.450848  \n",
      "1597 -0.676657  1.677400  0.305990 -0.209308 -0.787823  \n",
      "1598 -0.666057  0.511130  0.010924  0.541630  0.450848  \n",
      "\n",
      "[1599 rows x 12 columns]\n"
     ]
    }
   ],
   "source": [
    "scaler = StandardScaler()\n",
    "df_red_wine_scaled = pd.DataFrame(scaler.fit_transform(df_red_wine))"
   ]
  },
  {
   "cell_type": "markdown",
   "id": "e10a506c",
   "metadata": {},
   "source": [
    "Testing on Iris dataset"
   ]
  },
  {
   "cell_type": "code",
   "execution_count": null,
   "id": "a96a9006",
   "metadata": {},
   "outputs": [],
   "source": [
    "iris = datasets.load_iris()\n",
    "X = iris[\"data\"][:, (2, 3)] # petal length, petal width\n",
    "y = (iris[\"target\"] == 2).astype(np.float64) # Iris-Virginica\n",
    "\n",
    "svm_clf = Pipeline([\n",
    "        (\"scaler\", StandardScaler()),\n",
    "        (\"linear_svc\", LinearSVC(C=1, loss=\"hinge\")),\n",
    "    ])\n",
    "\n",
    "print(X)\n",
    "print(y)\n",
    "\n",
    "svm_clf.fit(X, y)\n",
    "plt.scatter(X[:,0], X[:,1])\n"
   ]
  },
  {
   "cell_type": "markdown",
   "id": "ce8d707b",
   "metadata": {},
   "source": [
    "Testing on Red wine dataset"
   ]
  },
  {
   "cell_type": "code",
   "execution_count": 50,
   "id": "63d79e01",
   "metadata": {},
   "outputs": [],
   "source": [
    "X1 = df_red_wine_scaled.iloc[:,[2, 3]]\n",
    "y1 = df_red_wine_scaled.iloc[:,-1]"
   ]
  },
  {
   "cell_type": "code",
   "execution_count": null,
   "id": "415abfc4",
   "metadata": {},
   "outputs": [],
   "source": []
  }
 ],
 "metadata": {
  "kernelspec": {
   "display_name": "Python 3 (ipykernel)",
   "language": "python",
   "name": "python3"
  },
  "language_info": {
   "codemirror_mode": {
    "name": "ipython",
    "version": 3
   },
   "file_extension": ".py",
   "mimetype": "text/x-python",
   "name": "python",
   "nbconvert_exporter": "python",
   "pygments_lexer": "ipython3",
   "version": "3.10.5"
  }
 },
 "nbformat": 4,
 "nbformat_minor": 5
}
