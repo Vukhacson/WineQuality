{
 "cells": [
  {
   "cell_type": "code",
   "execution_count": null,
   "id": "5bb72bcb",
   "metadata": {},
   "outputs": [],
   "source": [
    "import os\n",
    "import pandas as pd\n",
    "import matplotlib.pyplot as plt\n",
    "\n",
    "import numpy as np\n",
    "\n",
    "from sklearn import metrics\n",
    "from sklearn import datasets\n",
    "from sklearn.preprocessing import StandardScaler\n",
    "\n",
    "from sklearn.ensemble import RandomForestClassifier\n",
    "from sklearn.ensemble import RandomForestRegressor\n",
    "from sklearn.ensemble import VotingClassifier\n",
    "\n",
    "from sklearn.pipeline import Pipeline\n",
    "\n",
    "from sklearn.metrics import mean_squared_error\n",
    "from sklearn.model_selection import train_test_split"
   ]
  },
  {
   "cell_type": "markdown",
   "id": "e10a506c",
   "metadata": {},
   "source": [
    "# Testing on Iris dataset"
   ]
  },
  {
   "cell_type": "code",
   "execution_count": null,
   "id": "a96a9006",
   "metadata": {},
   "outputs": [],
   "source": [
    "iris = datasets.load_iris()"
   ]
  },
  {
   "cell_type": "code",
   "execution_count": null,
   "id": "e0f6005e",
   "metadata": {},
   "outputs": [],
   "source": [
    "print(iris.target_names)\n",
    "print(iris.feature_names)"
   ]
  },
  {
   "cell_type": "code",
   "execution_count": null,
   "id": "e4225514",
   "metadata": {},
   "outputs": [],
   "source": [
    "# print the iris data (top 5 records)\n",
    "print(iris.data[0:5])\n",
    "\n",
    "# print the iris labels (0:setosa, 1:versicolor, 2:virginica)\n",
    "print(iris.target)"
   ]
  },
  {
   "cell_type": "code",
   "execution_count": null,
   "id": "2c3c2a00",
   "metadata": {},
   "outputs": [],
   "source": [
    "X = data[['sepal length', 'sepal width', 'petal length', 'petal width']]  # Features\n",
    "y = data['species']  # Labels\n",
    "\n",
    "print(X)\n",
    "print(y)\n",
    "\n",
    "# Split dataset into training set and test set\n",
    "X_train, X_test, y_train, y_test = train_test_split(X, y, test_size=0.3) # 70% training and 30% test"
   ]
  },
  {
   "cell_type": "code",
   "execution_count": null,
   "id": "712b8b79",
   "metadata": {},
   "outputs": [],
   "source": [
    "X_train.info()"
   ]
  },
  {
   "cell_type": "code",
   "execution_count": null,
   "id": "5a802fb8",
   "metadata": {},
   "outputs": [],
   "source": [
    "X_test.info()"
   ]
  },
  {
   "cell_type": "code",
   "execution_count": null,
   "id": "243f3a91",
   "metadata": {},
   "outputs": [],
   "source": [
    "y_train.info()\n",
    "y_train"
   ]
  },
  {
   "cell_type": "code",
   "execution_count": null,
   "id": "14fe796c",
   "metadata": {},
   "outputs": [],
   "source": [
    "y_test.info()\n",
    "y_test"
   ]
  },
  {
   "cell_type": "markdown",
   "id": "537b5d43",
   "metadata": {},
   "source": [
    "* RandomForest Prediction"
   ]
  },
  {
   "cell_type": "code",
   "execution_count": null,
   "id": "f03c45df",
   "metadata": {},
   "outputs": [],
   "source": [
    "#Create a Gaussian Classifier\n",
    "clf = RandomForestClassifier(n_estimators = 500, max_leaf_nodes = 16, n_jobs = -1)\n",
    "\n",
    "#Train the model using the training sets y_pred=clf.predict(X_test)\n",
    "clf.fit(X_train,y_train)\n",
    "\n",
    "y_pred = clf.predict(X_test)"
   ]
  },
  {
   "cell_type": "code",
   "execution_count": null,
   "id": "73ff2276",
   "metadata": {},
   "outputs": [],
   "source": [
    "plt.figure(figsize = (12,2))\n",
    "\n",
    "plt.scatter(np.linspace(0, 1, len(y_test)), y_pred, color = 'r')\n",
    "plt.scatter(np.linspace(0, 1, len(y_test)), y_test, color = 'b')\n",
    "plt.legend(['prediction', 'classified data'], loc = (1.05,0))\n",
    "\n",
    "for i in np.linspace(0, 1, len(y_test)):\n",
    "    plt.plot([i,i], [0,2], color = 'violet', alpha = 0.3)\n",
    "\n",
    "# Model Accuracy, how often is the classifier correct?\n",
    "print(\"Accuracy:\",metrics.accuracy_score(y_test, y_pred))"
   ]
  },
  {
   "cell_type": "markdown",
   "id": "b989815b",
   "metadata": {},
   "source": [
    "You can also make a prediction for a single item, for example:\n",
    "\n",
    "sepal length = 3\n",
    "\n",
    "sepal width = 5\n",
    "\n",
    "petal length = 4\n",
    "\n",
    "petal width = 2\n",
    "\n",
    "Now you can predict which type of flower it is."
   ]
  },
  {
   "cell_type": "code",
   "execution_count": null,
   "id": "30b37def",
   "metadata": {},
   "outputs": [],
   "source": [
    "# clf.predict([[3, 5, 4, 1]])      # (0:setosa, 1:versicolor, 2:virginica)"
   ]
  },
  {
   "cell_type": "markdown",
   "id": "ce8d707b",
   "metadata": {},
   "source": [
    "# Testing on Red wine dataset\n",
    "* Load file"
   ]
  },
  {
   "cell_type": "code",
   "execution_count": null,
   "id": "baff445d",
   "metadata": {},
   "outputs": [],
   "source": [
    "def load_wine_data(path_to_dir, filename, csv_separator):\n",
    "    csv_path = os.path.join(path_to_dir, filename)\n",
    "    return pd.read_csv(csv_path, sep=csv_separator)\n",
    "#os.path.dirname(path) return the parent directory of the given path\n",
    "PARENT_DIR = os.path.dirname(os.getcwd())\n",
    "WINE_DIR = os.path.join(PARENT_DIR, \"Data set\")\n",
    "print(PARENT_DIR)\n",
    "print(WINE_DIR)"
   ]
  },
  {
   "cell_type": "code",
   "execution_count": null,
   "id": "5a7f1b6b",
   "metadata": {},
   "outputs": [],
   "source": [
    "df_red_wine = load_wine_data(WINE_DIR, \"winequality-red.csv\", \";\")\n",
    "df_white_wine = load_wine_data(WINE_DIR, \"winequality-white.csv\", \";\")"
   ]
  },
  {
   "cell_type": "markdown",
   "id": "249fd9e2",
   "metadata": {},
   "source": [
    "* Data Scaling"
   ]
  },
  {
   "cell_type": "code",
   "execution_count": null,
   "id": "c82606e4",
   "metadata": {},
   "outputs": [],
   "source": [
    "scaler = StandardScaler()\n",
    "df_red_wine_scaled = pd.DataFrame(scaler.fit_transform(df_red_wine))\n",
    "\n",
    "df_red_wine_label = df_red_wine.columns.values"
   ]
  },
  {
   "cell_type": "code",
   "execution_count": 291,
   "id": "63d79e01",
   "metadata": {},
   "outputs": [],
   "source": [
    "X1 = df_red_wine_scaled.iloc[:,[2,3,4]]\n",
    "X1.columns = df_red_wine_label[[2,3,4]]\n",
    "y1 = df_red_wine.iloc[:,[-1]]"
   ]
  },
  {
   "cell_type": "markdown",
   "id": "eb157a8e",
   "metadata": {},
   "source": [
    "* RandomForest Prediction"
   ]
  },
  {
   "cell_type": "code",
   "execution_count": 318,
   "id": "add4f9a7",
   "metadata": {},
   "outputs": [],
   "source": [
    "#Create a Gaussian Classifier\n",
    "rnd = RandomForestClassifier(n_estimators = 600, max_leaf_nodes = 16, n_jobs = -1)\n",
    "\n",
    "# Split dataset into training set and test set\n",
    "X1_train, X1_test, y1_train, y1_test = train_test_split(X1, y1, test_size=0.05) # 70% training and 30% test"
   ]
  },
  {
   "cell_type": "code",
   "execution_count": 319,
   "id": "bc7e2a0c",
   "metadata": {},
   "outputs": [
    {
     "name": "stdout",
     "output_type": "stream",
     "text": [
      "[6 5 5 5 5 5 5 5 6 5 6 5 5 5 5 5 5 6 5 5 6 6 5 5 6 5 6 6 5 5 5 6 5 5 6 5 6\n",
      " 6 5 6 5 5 6 5 5 5 6 5 5 5 6 5 5 6 6 5 5 5 6 6 6 5 6 6 6 6 5 5 5 6 6 6 5 5\n",
      " 6 6 5 5 5 5]\n"
     ]
    }
   ],
   "source": [
    "#Train the model using the training sets y_pred=clf.predict(X_test)\n",
    "rnd.fit(X1_train, y1_train.values.ravel())\n",
    "\n",
    "y1_pred = rnd.predict(X1_test)\n",
    "print(y1_pred)"
   ]
  },
  {
   "cell_type": "code",
   "execution_count": 320,
   "id": "35b9f0ef",
   "metadata": {},
   "outputs": [
    {
     "name": "stdout",
     "output_type": "stream",
     "text": [
      "Accuracy: 0.5125\n"
     ]
    },
    {
     "data": {
      "image/png": "[encoded data removed]",
      "text/plain": [
       "<Figure size 1200x400 with 1 Axes>"
      ]
     },
     "metadata": {},
     "output_type": "display_data"
    }
   ],
   "source": [
    "plt.figure(figsize = (12,4))\n",
    "\n",
    "plt.scatter(np.linspace(0, 1, len(y1_test)), y1_pred, color = 'r')\n",
    "plt.scatter(np.linspace(0, 1, len(y1_test)), y1_test, color = 'b')\n",
    "plt.legend(['prediction', 'classified data'], loc = (1.05,0))\n",
    "\n",
    "# for i in np.linspace(0, 1, len(y1_test)):\n",
    "#     plt.plot([i,i], [y1.min(), y1.max()], color = 'violet', alpha = 0.3)\n",
    "    \n",
    "# Model Accuracy, how often is the classifier correct?\n",
    "print(\"Accuracy:\",metrics.accuracy_score(y1_test, y1_pred))"
   ]
  },
  {
   "cell_type": "code",
   "execution_count": null,
   "id": "b226ac6f",
   "metadata": {},
   "outputs": [],
   "source": []
  }
 ],
 "metadata": {
  "kernelspec": {
   "display_name": "Python 3 (ipykernel)",
   "language": "python",
   "name": "python3"
  },
  "language_info": {
   "codemirror_mode": {
    "name": "ipython",
    "version": 3
   },
   "file_extension": ".py",
   "mimetype": "text/x-python",
   "name": "python",
   "nbconvert_exporter": "python",
   "pygments_lexer": "ipython3",
   "version": "3.10.5"
  }
 },
 "nbformat": 4,
 "nbformat_minor": 5
}
