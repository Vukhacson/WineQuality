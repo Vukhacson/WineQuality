{
 "cells": [
  {
   "cell_type": "markdown",
   "metadata": {},
   "source": [
    "## Prepare data"
   ]
  },
  {
   "cell_type": "code",
   "execution_count": 40,
   "metadata": {},
   "outputs": [],
   "source": [
    "import os\n",
    "import numpy as np\n",
    "import pandas as pd\n",
    "import matplotlib.pyplot as plt\n",
    "import seaborn as sns\n",
    "from sklearn import tree\n",
    "from sklearn.preprocessing import RobustScaler\n",
    "from sklearn.model_selection import train_test_split \n",
    "from sklearn import metrics"
   ]
  },
  {
   "cell_type": "code",
   "execution_count": 41,
   "metadata": {},
   "outputs": [
    {
     "name": "stdout",
     "output_type": "stream",
     "text": [
      "D:\\Documents\\GitHub\\WineQuality\n",
      "D:\\Documents\\GitHub\\WineQuality\\Data set\n"
     ]
    }
   ],
   "source": [
    "def load_wine_data(path_to_dir, filename, csv_separator):\n",
    "    csv_path = os.path.join(path_to_dir, filename)\n",
    "    return pd.read_csv(csv_path, sep=csv_separator)\n",
    "#os.path.dirname(path) return the parent directory of the given path\n",
    "PARENT_DIR = os.path.dirname(os.getcwd())\n",
    "WINE_DIR = os.path.join(PARENT_DIR, \"Data set\")\n",
    "print(PARENT_DIR)\n",
    "print(WINE_DIR)"
   ]
  },
  {
   "cell_type": "code",
   "execution_count": 42,
   "metadata": {},
   "outputs": [],
   "source": [
    "df_red_wine = load_wine_data(WINE_DIR, \"winequality-red.csv\", \";\")\n",
    "df_x = df_red_wine.drop('quality', axis = 1)\n",
    "df_y = df_red_wine['quality']\n",
    "\n",
    "# Splitting the dataset.  \n",
    "df_x_train, df_x_test, df_y_train, df_y_test = train_test_split(df_x,df_y, test_size= 0.2)  \n",
    "%matplotlib inline"
   ]
  },
  {
   "cell_type": "markdown",
   "metadata": {},
   "source": [
    "## Decision Tree"
   ]
  },
  {
   "cell_type": "markdown",
   "metadata": {},
   "source": [
    "Graphical representation of all the possible sol to a decision like a tree\n",
    "\n",
    "Decision based on some conditions , made can be easily explained\n",
    "#### Terminology\n",
    "- Root node \n",
    "- Child node\n",
    "- Branch\n",
    "- Leaf node\n",
    "- Pruning"
   ]
  },
  {
   "cell_type": "markdown",
   "metadata": {},
   "source": [
    "### Scale Data "
   ]
  },
  {
   "cell_type": "code",
   "execution_count": 43,
   "metadata": {},
   "outputs": [
    {
     "data": {
      "text/html": [
       "<div>\n",
       "<style scoped>\n",
       "    .dataframe tbody tr th:only-of-type {\n",
       "        vertical-align: middle;\n",
       "    }\n",
       "\n",
       "    .dataframe tbody tr th {\n",
       "        vertical-align: top;\n",
       "    }\n",
       "\n",
       "    .dataframe thead th {\n",
       "        text-align: right;\n",
       "    }\n",
       "</style>\n",
       "<table border=\"1\" class=\"dataframe\">\n",
       "  <thead>\n",
       "    <tr style=\"text-align: right;\">\n",
       "      <th></th>\n",
       "      <th>fixed acidity</th>\n",
       "      <th>volatile acidity</th>\n",
       "      <th>citric acid</th>\n",
       "      <th>residual sugar</th>\n",
       "      <th>chlorides</th>\n",
       "      <th>free sulfur dioxide</th>\n",
       "      <th>total sulfur dioxide</th>\n",
       "      <th>density</th>\n",
       "      <th>pH</th>\n",
       "      <th>sulphates</th>\n",
       "      <th>alcohol</th>\n",
       "    </tr>\n",
       "  </thead>\n",
       "  <tbody>\n",
       "    <tr>\n",
       "      <th>0</th>\n",
       "      <td>-0.238095</td>\n",
       "      <td>0.72</td>\n",
       "      <td>-0.787879</td>\n",
       "      <td>-0.428571</td>\n",
       "      <td>-0.15</td>\n",
       "      <td>-0.214286</td>\n",
       "      <td>-0.100</td>\n",
       "      <td>0.469799</td>\n",
       "      <td>1.052632</td>\n",
       "      <td>-0.333333</td>\n",
       "      <td>-0.50</td>\n",
       "    </tr>\n",
       "    <tr>\n",
       "      <th>1</th>\n",
       "      <td>-0.047619</td>\n",
       "      <td>1.44</td>\n",
       "      <td>-0.787879</td>\n",
       "      <td>0.571429</td>\n",
       "      <td>0.95</td>\n",
       "      <td>0.785714</td>\n",
       "      <td>0.725</td>\n",
       "      <td>0.022371</td>\n",
       "      <td>-0.578947</td>\n",
       "      <td>0.333333</td>\n",
       "      <td>-0.25</td>\n",
       "    </tr>\n",
       "    <tr>\n",
       "      <th>2</th>\n",
       "      <td>-0.047619</td>\n",
       "      <td>0.96</td>\n",
       "      <td>-0.666667</td>\n",
       "      <td>0.142857</td>\n",
       "      <td>0.65</td>\n",
       "      <td>0.071429</td>\n",
       "      <td>0.400</td>\n",
       "      <td>0.111857</td>\n",
       "      <td>-0.263158</td>\n",
       "      <td>0.166667</td>\n",
       "      <td>-0.25</td>\n",
       "    </tr>\n",
       "    <tr>\n",
       "      <th>3</th>\n",
       "      <td>1.571429</td>\n",
       "      <td>-0.96</td>\n",
       "      <td>0.909091</td>\n",
       "      <td>-0.428571</td>\n",
       "      <td>-0.20</td>\n",
       "      <td>0.214286</td>\n",
       "      <td>0.550</td>\n",
       "      <td>0.559284</td>\n",
       "      <td>-0.789474</td>\n",
       "      <td>-0.222222</td>\n",
       "      <td>-0.25</td>\n",
       "    </tr>\n",
       "    <tr>\n",
       "      <th>4</th>\n",
       "      <td>-0.238095</td>\n",
       "      <td>0.72</td>\n",
       "      <td>-0.787879</td>\n",
       "      <td>-0.428571</td>\n",
       "      <td>-0.15</td>\n",
       "      <td>-0.214286</td>\n",
       "      <td>-0.100</td>\n",
       "      <td>0.469799</td>\n",
       "      <td>1.052632</td>\n",
       "      <td>-0.333333</td>\n",
       "      <td>-0.50</td>\n",
       "    </tr>\n",
       "  </tbody>\n",
       "</table>\n",
       "</div>"
      ],
      "text/plain": [
       "   fixed acidity  volatile acidity  citric acid  residual sugar  chlorides  \\\n",
       "0      -0.238095              0.72    -0.787879       -0.428571      -0.15   \n",
       "1      -0.047619              1.44    -0.787879        0.571429       0.95   \n",
       "2      -0.047619              0.96    -0.666667        0.142857       0.65   \n",
       "3       1.571429             -0.96     0.909091       -0.428571      -0.20   \n",
       "4      -0.238095              0.72    -0.787879       -0.428571      -0.15   \n",
       "\n",
       "   free sulfur dioxide  total sulfur dioxide   density        pH  sulphates  \\\n",
       "0            -0.214286                -0.100  0.469799  1.052632  -0.333333   \n",
       "1             0.785714                 0.725  0.022371 -0.578947   0.333333   \n",
       "2             0.071429                 0.400  0.111857 -0.263158   0.166667   \n",
       "3             0.214286                 0.550  0.559284 -0.789474  -0.222222   \n",
       "4            -0.214286                -0.100  0.469799  1.052632  -0.333333   \n",
       "\n",
       "   alcohol  \n",
       "0    -0.50  \n",
       "1    -0.25  \n",
       "2    -0.25  \n",
       "3    -0.25  \n",
       "4    -0.50  "
      ]
     },
     "execution_count": 43,
     "metadata": {},
     "output_type": "execute_result"
    }
   ],
   "source": [
    "transform = RobustScaler().fit(df_x)\n",
    "df_trans_red = transform.transform(df_x)\n",
    "df_scale_red = pd.DataFrame(df_trans_red,columns=df_red_wine.columns[:-1])\n",
    "df_scale_red.head()"
   ]
  },
  {
   "cell_type": "markdown",
   "metadata": {},
   "source": [
    "### ML Algo classifying the red quality"
   ]
  },
  {
   "cell_type": "code",
   "execution_count": 44,
   "metadata": {},
   "outputs": [],
   "source": [
    "from sklearn.tree import DecisionTreeClassifier\n",
    "df_red_decision = DecisionTreeClassifier()\n",
    "df_red_decision .fit(df_x_train,df_y_train)\n",
    "df_red_predict = df_red_decision.predict(df_x_test)\n"
   ]
  },
  {
   "cell_type": "markdown",
   "metadata": {},
   "source": [
    "### Evaluation"
   ]
  },
  {
   "cell_type": "markdown",
   "metadata": {},
   "source": [
    "##### Show the accuracy and the balanced accuracy based on test set"
   ]
  },
  {
   "cell_type": "code",
   "execution_count": 45,
   "metadata": {},
   "outputs": [
    {
     "name": "stdout",
     "output_type": "stream",
     "text": [
      "0.653125\n",
      "0.4104815326558209\n"
     ]
    }
   ],
   "source": [
    "from sklearn.metrics import accuracy_score\n",
    "print(accuracy_score(df_y_test,df_red_predict))\n",
    "\n",
    "from sklearn.metrics import balanced_accuracy_score\n",
    "print(balanced_accuracy_score(df_y_test, df_red_predict))\n"
   ]
  },
  {
   "cell_type": "markdown",
   "metadata": {},
   "source": [
    "#### Show the precision, f1-score, recall-score\n",
    "[scikit](https://scikit-learn.org/stable/modules/model_evaluation.html#the-scoring-parameter-defining-model-evaluation-rules)"
   ]
  },
  {
   "cell_type": "code",
   "execution_count": 46,
   "metadata": {},
   "outputs": [
    {
     "name": "stdout",
     "output_type": "stream",
     "text": [
      "              precision    recall  f1-score   support\n",
      "\n",
      "           3       0.00      0.00      0.00         1\n",
      "           4       0.08      0.10      0.09        10\n",
      "           5       0.78      0.65      0.71       143\n",
      "           6       0.62      0.72      0.66       122\n",
      "           7       0.62      0.66      0.64        38\n",
      "           8       0.40      0.33      0.36         6\n",
      "\n",
      "    accuracy                           0.65       320\n",
      "   macro avg       0.42      0.41      0.41       320\n",
      "weighted avg       0.67      0.65      0.66       320\n",
      "\n"
     ]
    }
   ],
   "source": [
    "from sklearn.metrics import classification_report\n",
    "print(classification_report(df_y_test,df_red_predict))"
   ]
  },
  {
   "cell_type": "markdown",
   "metadata": {},
   "source": [
    "#### Visulize the ROC curve and calculate AUC - score"
   ]
  },
  {
   "cell_type": "code",
   "execution_count": 59,
   "metadata": {},
   "outputs": [
    {
     "data": {
      "text/plain": [
       "array([7, 5, 5, 7, 5, 5, 7, 6, 5, 5, 7, 5, 8, 5, 6, 4, 6, 6, 5, 5, 6, 5,\n",
       "       5, 6, 5, 6, 5, 5, 5, 6, 6, 6, 5, 6, 5, 7, 5, 6, 5, 5, 6, 3, 5, 4,\n",
       "       4, 5, 5, 6, 5, 6, 7, 7, 5, 4, 5, 6, 6, 6, 6, 5, 5, 5, 7, 7, 6, 5,\n",
       "       6, 7, 5, 6, 6, 5, 5, 5, 6, 5, 6, 5, 7, 5, 6, 6, 6, 5, 5, 6, 5, 6,\n",
       "       6, 5, 5, 5, 7, 5, 5, 6, 6, 5, 5, 5, 5, 7, 6, 6, 5, 5, 7, 6, 7, 6,\n",
       "       5, 5, 6, 6, 7, 6, 6, 7, 7, 5, 5, 6, 5, 7, 6, 6, 5, 6, 5, 6, 7, 5,\n",
       "       6, 5, 6, 8, 4, 6, 6, 5, 4, 6, 6, 7, 6, 6, 6, 5, 5, 5, 5, 5, 5, 5,\n",
       "       5, 7, 7, 6, 6, 6, 6, 5, 5, 4, 5, 6, 5, 5, 5, 6, 6, 6, 4, 6, 5, 6,\n",
       "       5, 6, 5, 5, 5, 5, 6, 5, 6, 5, 5, 5, 5, 6, 5, 6, 5, 7, 5, 6, 6, 5,\n",
       "       6, 5, 5, 6, 5, 6, 7, 5, 6, 5, 5, 5, 6, 5, 5, 5, 7, 6, 6, 5, 5, 5,\n",
       "       6, 5, 5, 8, 5, 5, 8, 5, 6, 5, 6, 5, 6, 6, 6, 5, 7, 6, 6, 6, 5, 5,\n",
       "       8, 4, 6, 6, 7, 5, 7, 6, 5, 5, 5, 5, 6, 6, 6, 7, 5, 6, 6, 6, 6, 5,\n",
       "       4, 6, 6, 6, 5, 8, 5, 5, 5, 5, 6, 6, 7, 6, 6, 5, 5, 6, 7, 5, 5, 6,\n",
       "       6, 6, 5, 6, 6, 5, 7, 7, 5, 5, 5, 6, 6, 5, 5, 6, 6, 6, 5, 5, 5, 7,\n",
       "       7, 6, 5, 6, 7, 7, 5, 6, 5, 6, 6, 6], dtype=int64)"
      ]
     },
     "execution_count": 59,
     "metadata": {},
     "output_type": "execute_result"
    }
   ],
   "source": [
    "df_y_test.values"
   ]
  },
  {
   "cell_type": "code",
   "execution_count": 58,
   "metadata": {},
   "outputs": [
    {
     "data": {
      "text/plain": [
       "array([7, 5, 6, 8, 5, 5, 7, 7, 5, 6, 6, 5, 7, 6, 5, 6, 6, 7, 5, 6, 6, 5,\n",
       "       5, 6, 5, 6, 6, 6, 6, 5, 5, 6, 5, 6, 5, 5, 5, 6, 6, 5, 5, 4, 5, 6,\n",
       "       4, 5, 5, 5, 6, 5, 7, 7, 6, 5, 6, 6, 6, 6, 5, 6, 6, 5, 7, 7, 6, 5,\n",
       "       6, 7, 6, 6, 6, 5, 5, 5, 6, 4, 6, 5, 7, 4, 7, 6, 6, 5, 6, 6, 6, 6,\n",
       "       6, 5, 5, 5, 7, 6, 5, 5, 6, 5, 5, 5, 6, 7, 6, 6, 6, 6, 7, 6, 7, 6,\n",
       "       7, 5, 6, 6, 6, 6, 7, 7, 6, 6, 5, 6, 5, 7, 6, 6, 7, 5, 5, 5, 7, 5,\n",
       "       6, 5, 6, 6, 6, 6, 5, 5, 5, 5, 6, 7, 6, 5, 7, 5, 5, 5, 5, 5, 6, 5,\n",
       "       6, 6, 7, 6, 6, 5, 6, 5, 5, 6, 5, 6, 6, 5, 5, 7, 6, 5, 5, 4, 5, 6,\n",
       "       5, 6, 5, 5, 5, 5, 6, 5, 6, 5, 6, 5, 5, 6, 5, 6, 5, 6, 5, 6, 6, 5,\n",
       "       6, 5, 5, 6, 5, 5, 6, 5, 6, 4, 6, 5, 7, 4, 5, 5, 7, 6, 6, 6, 5, 8,\n",
       "       6, 5, 5, 8, 5, 5, 7, 6, 6, 5, 6, 5, 6, 6, 6, 5, 7, 6, 6, 6, 5, 6,\n",
       "       6, 5, 6, 6, 5, 5, 6, 6, 5, 4, 5, 4, 6, 6, 6, 7, 5, 6, 7, 6, 5, 6,\n",
       "       3, 7, 5, 6, 5, 8, 6, 5, 5, 6, 6, 7, 7, 6, 5, 6, 8, 6, 6, 5, 6, 6,\n",
       "       4, 6, 5, 6, 6, 6, 6, 7, 6, 5, 5, 6, 6, 4, 6, 6, 6, 6, 5, 5, 6, 6,\n",
       "       7, 6, 5, 4, 7, 7, 5, 6, 6, 5, 6, 7], dtype=int64)"
      ]
     },
     "execution_count": 58,
     "metadata": {},
     "output_type": "execute_result"
    }
   ],
   "source": [
    "df_red_predict"
   ]
  },
  {
   "cell_type": "code",
   "execution_count": 1,
   "metadata": {},
   "outputs": [],
   "source": [
    "# import matplotlib.pyplot as plt\n",
    "# import numpy as np\n",
    "# from sklearn import metrics\n",
    "# fpr, tpr, thresholds = metrics.roc_curve(df_y_test.values,df_red_predict)\n",
    "# roc_auc = metrics.auc(fpr, tpr)\n",
    "# display = metrics.RocCurveDisplay(fpr=fpr, tpr=tpr, roc_auc=roc_auc)\n",
    "# display.plot()\n",
    "# plt.show()"
   ]
  },
  {
   "cell_type": "code",
   "execution_count": null,
   "metadata": {},
   "outputs": [],
   "source": []
  }
 ],
 "metadata": {
  "kernelspec": {
   "display_name": "Python 3 (ipykernel)",
   "language": "python",
   "name": "python3"
  },
  "language_info": {
   "codemirror_mode": {
    "name": "ipython",
    "version": 3
   },
   "file_extension": ".py",
   "mimetype": "text/x-python",
   "name": "python",
   "nbconvert_exporter": "python",
   "pygments_lexer": "ipython3",
   "version": "3.10.5"
  },
  "vscode": {
   "interpreter": {
    "hash": "a42ccb73e7d9bfdf27e036f1d2b8b681e55fc0743cc5586bc2474d4a60f4b886"
   }
  }
 },
 "nbformat": 4,
 "nbformat_minor": 2
}
