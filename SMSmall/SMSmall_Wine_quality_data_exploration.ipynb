{
 "cells": [
  {
   "cell_type": "code",
   "execution_count": 5,
   "id": "920bdf4e",
   "metadata": {},
   "outputs": [],
   "source": [
    "import os\n",
    "import numpy as np\n",
    "import pandas as pd\n",
    "import matplotlib.pyplot as plt\n",
    "import seaborn as sns"
   ]
  },
  {
   "cell_type": "code",
   "execution_count": 6,
   "id": "266f06f5",
   "metadata": {},
   "outputs": [
    {
     "name": "stdout",
     "output_type": "stream",
     "text": [
      "G:\\Learning resource\\Github\\WineQuality\n",
      "G:\\Learning resource\\Github\\WineQuality\\Data set\n"
     ]
    }
   ],
   "source": [
    "def load_wine_data(path_to_dir, filename, csv_separator):\n",
    "    csv_path = os.path.join(path_to_dir, filename)\n",
    "    return pd.read_csv(csv_path, sep=csv_separator)\n",
    "#os.path.dirname(path) return the parent directory of the given path\n",
    "PARENT_DIR = os.path.dirname(os.getcwd())\n",
    "WINE_DIR = os.path.join(PARENT_DIR, \"Data set\")\n",
    "print(PARENT_DIR)\n",
    "print(WINE_DIR)"
   ]
  },
  {
   "cell_type": "code",
   "execution_count": 7,
   "id": "700da004",
   "metadata": {},
   "outputs": [],
   "source": [
    "df_red_wine = load_wine_data(WINE_DIR, \"winequality-red.csv\", \";\")\n",
    "df_white_wine = load_wine_data(WINE_DIR, \"winequality-white.csv\", \";\")"
   ]
  },
  {
   "cell_type": "markdown",
   "id": "488f7ad4",
   "metadata": {},
   "source": [
    "# Overall Analysis: 2 Dataframe df_red_wine & df_white_wine"
   ]
  },
  {
   "cell_type": "markdown",
   "id": "9ff49810",
   "metadata": {},
   "source": [
    "## 1. Showing, check the min, max, avg of the whole dataset"
   ]
  },
  {
   "cell_type": "code",
   "execution_count": null,
   "id": "2520dcba",
   "metadata": {
    "scrolled": true
   },
   "outputs": [],
   "source": [
    "#Dat\n",
    "\n",
    "df_red_wine.head()\n",
    "df_white_wine.head()"
   ]
  },
  {
   "cell_type": "code",
   "execution_count": null,
   "id": "9c8ca71c",
   "metadata": {},
   "outputs": [],
   "source": [
    "#Dat\n",
    "\n",
    "df_red_wine_des = df_red_wine.describe()\n",
    "df_red_wine_des\n",
    "df_white_wine_des = df_red_wine.describe()\n",
    "df_white_wine_des"
   ]
  },
  {
   "cell_type": "code",
   "execution_count": null,
   "id": "ee432db3",
   "metadata": {},
   "outputs": [],
   "source": [
    "#Dat\n",
    "\n",
    "df_red_wine_minmax = df_red_wine_des.loc[[\"mean\", \"max\", \"min\"]]\n",
    "print(df_red_wine_minmax)\n",
    "df_white_wine_minmax = df_red_wine_des.loc[[\"mean\", \"max\", \"min\"]]\n",
    "print(df_white_wine_minmax)"
   ]
  },
  {
   "cell_type": "markdown",
   "id": "07db5152",
   "metadata": {},
   "source": [
    "## 2. check missing data point, plot a heat map of showing if null is exist"
   ]
  },
  {
   "cell_type": "code",
   "execution_count": null,
   "id": "1ef92bb5",
   "metadata": {},
   "outputs": [],
   "source": [
    "#Dat\n",
    "\n",
    "print(\"Total missing values of red wine: \",df_red_wine.isnull().sum().sum())\n",
    "print(\"Total missing values of white wine: \",df_red_wine.isnull().sum().sum())"
   ]
  },
  {
   "cell_type": "markdown",
   "id": "80974680",
   "metadata": {},
   "source": [
    "## 3. Show number of samples and features using df.info() && 4. Check the info, datatype of each feature"
   ]
  },
  {
   "cell_type": "code",
   "execution_count": null,
   "id": "a3b7dd44",
   "metadata": {},
   "outputs": [],
   "source": [
    "#Dat\n",
    "\n",
    "df_red_wine.info()\n",
    "df_white_wine.info()"
   ]
  },
  {
   "cell_type": "markdown",
   "id": "fd569b46",
   "metadata": {},
   "source": [
    "## 4. Correlation and Covariance"
   ]
  },
  {
   "cell_type": "markdown",
   "id": "25946d16",
   "metadata": {},
   "source": [
    "Ha Ngo\n",
    "\n",
    "Check the correlation and the covariance in the dataset, choosing the most suitable graph type to visualize the corr and cov matrix."
   ]
  },
  {
   "cell_type": "code",
   "execution_count": null,
   "id": "62fdcdce",
   "metadata": {},
   "outputs": [],
   "source": [
    "df_red_cov_matrix = df_red_wine.cov()\n",
    "df_white_cov_matrix = df_white_wine.cov()\n"
   ]
  },
  {
   "cell_type": "code",
   "execution_count": null,
   "id": "bc972504",
   "metadata": {},
   "outputs": [],
   "source": [
    "df_red_corr_matrix = df_red_wine.corr()\n",
    "df_white_corr_matrix = df_white_wine.corr()"
   ]
  },
  {
   "cell_type": "code",
   "execution_count": null,
   "id": "d6a3f0a4",
   "metadata": {},
   "outputs": [],
   "source": [
    "df_red_corr_matrix.head()"
   ]
  },
  {
   "cell_type": "code",
   "execution_count": null,
   "id": "18f7ff99",
   "metadata": {},
   "outputs": [],
   "source": [
    "df_white_corr_matrix.head()"
   ]
  },
  {
   "cell_type": "code",
   "execution_count": null,
   "id": "2976b44d",
   "metadata": {},
   "outputs": [],
   "source": [
    "df_red_cov_matrix.head()"
   ]
  },
  {
   "cell_type": "code",
   "execution_count": null,
   "id": "04aae12e",
   "metadata": {},
   "outputs": [],
   "source": [
    "df_white_cov_matrix.head()"
   ]
  },
  {
   "cell_type": "code",
   "execution_count": null,
   "id": "05cee55a",
   "metadata": {},
   "outputs": [],
   "source": [
    "print(df_red_cov_matrix[\"quality\"].sort_values(ascending=False))"
   ]
  },
  {
   "cell_type": "code",
   "execution_count": null,
   "id": "3883ea08",
   "metadata": {},
   "outputs": [],
   "source": [
    "print(df_white_cov_matrix[\"quality\"].sort_values(ascending=False))"
   ]
  },
  {
   "cell_type": "code",
   "execution_count": null,
   "id": "43407bf5",
   "metadata": {},
   "outputs": [],
   "source": [
    "# Graph red_ cov using heat map \n",
    "sns.heatmap(df_red_cov_matrix, cmap=\"flare\", linewidths=0.5)"
   ]
  },
  {
   "cell_type": "code",
   "execution_count": null,
   "id": "002a44b9",
   "metadata": {},
   "outputs": [],
   "source": [
    "# Graph red_ corr using heat map \n",
    "sns.heatmap(df_red_corr_matrix, cmap=\"viridis\", linewidths=0.5)"
   ]
  },
  {
   "cell_type": "code",
   "execution_count": null,
   "id": "64dabdd7",
   "metadata": {},
   "outputs": [],
   "source": [
    "# Graph white_ cov using heat map \n",
    "sns.heatmap(df_white_cov_matrix, cmap=\"flare\", linewidths=0.5)"
   ]
  },
  {
   "cell_type": "code",
   "execution_count": null,
   "id": "d118d758",
   "metadata": {},
   "outputs": [],
   "source": [
    "# Graph white_ corr using heat map \n",
    "sns.heatmap(df_white_corr_matrix, cmap=\"viridis\", linewidths=0.5)"
   ]
  },
  {
   "cell_type": "markdown",
   "id": "1a62eed1",
   "metadata": {},
   "source": [
    "# Deep Analysis"
   ]
  },
  {
   "cell_type": "markdown",
   "id": "54fc1c8f",
   "metadata": {},
   "source": [
    "## Create scatter plots between every 2 pairs of features: "
   ]
  },
  {
   "cell_type": "markdown",
   "id": "f5a7a31f",
   "metadata": {},
   "source": [
    "## Showing the range of each feature"
   ]
  },
  {
   "cell_type": "markdown",
   "id": "0bf71389",
   "metadata": {},
   "source": [
    " Ha Ngo"
   ]
  },
  {
   "cell_type": "code",
   "execution_count": null,
   "id": "5cbed072",
   "metadata": {},
   "outputs": [],
   "source": [
    "for i in range(0,12):\n",
    "    \n",
    "    min = df_red_wine.iloc[:,i:i+1].min().values\n",
    "    max = df_red_wine.iloc[:, i:i+1].max().values\n",
    "    minus = max - min\n",
    "    print(\"The range of {}\".format(df_red_wine.columns[i]) + \" of the dataset %.2f\" % minus)"
   ]
  },
  {
   "cell_type": "code",
   "execution_count": null,
   "id": "7c52323c",
   "metadata": {},
   "outputs": [],
   "source": [
    "for i in range(0,12):\n",
    "    \n",
    "    min = df_white_wine.iloc[:,i:i+1].min().values\n",
    "    max = df_white_wine.iloc[:, i:i+1].max().values\n",
    "    minus = max - min\n",
    "    print(\"The range of {}\".format(df_white_wine.columns[i]) + \" of the dataset %.2f\" % minus)"
   ]
  },
  {
   "cell_type": "markdown",
   "id": "8054f43f",
   "metadata": {},
   "source": [
    "## Create histogram subplots to visualize all features"
   ]
  },
  {
   "cell_type": "code",
   "execution_count": null,
   "id": "b0a448d4",
   "metadata": {},
   "outputs": [],
   "source": [
    "#Dat\n",
    "# Red_wine histogram\n",
    "\n",
    "fig, axs = plt.subplots(6, 2, figsize=(15,30))\n",
    "ndarray_red_features = df_red_wine.columns.values.reshape(6,2)\n",
    "for i in range(6):\n",
    "    for j in range(2):\n",
    "        feature = ndarray_red_features[i, j]\n",
    "        df_red_wine[feature].plot(kind=\"hist\", bins=30, ax=axs[i, j])\n",
    "        axs[i,j].set(title = feature, ylabel=\"Count\")"
   ]
  },
  {
   "cell_type": "code",
   "execution_count": null,
   "id": "4aa30163",
   "metadata": {
    "scrolled": true
   },
   "outputs": [],
   "source": [
    "#Dat\n",
    "# White_wine histogram\n",
    "\n",
    "fig, axs = plt.subplots(6, 2, figsize=(15,30))\n",
    "ndarray_white_features = df_white_wine.columns.values.reshape(6,2)\n",
    "for i in range(6):\n",
    "    for j in range(2):\n",
    "        feature = ndarray_white_features[i, j]\n",
    "        df_white_wine[feature].plot(kind=\"hist\", bins=30, ax=axs[i, j])\n",
    "        axs[i,j].set(title = feature, ylabel=\"Count\")"
   ]
  },
  {
   "cell_type": "markdown",
   "id": "45071bce",
   "metadata": {},
   "source": [
    "## Create visualization plots for every feature"
   ]
  },
  {
   "cell_type": "code",
   "execution_count": null,
   "id": "1310737b",
   "metadata": {},
   "outputs": [],
   "source": [
    "#Dat\n",
    "\n",
    "fig, axs = plt.subplots(1, 2, figsize=(10,10))\n",
    "\n",
    "# Red_wine quality pie chart\n",
    "\n",
    "red_wine_quality = df_red_wine['quality'].value_counts()\n",
    "cmap = plt.get_cmap('viridis')\n",
    "colors = cmap(np.linspace(0, 10, 50))\n",
    "plt.subplot(1,2,1)\n",
    "plt.pie(red_wine_quality, startangle=90, labels=red_wine_quality.index, colors=colors)\n",
    "plt.title(\"Red wine quality\")\n",
    "plt.legend(loc = (1,0))\n",
    "\n",
    "# White_wine quality pie chart\n",
    "\n",
    "white_wine_quality = df_white_wine['quality'].value_counts()\n",
    "plt.subplot(1,2,2)\n",
    "plt.pie(white_wine_quality, startangle=90, labels=white_wine_quality.index)\n",
    "plt.title(\"White wine quality\")\n",
    "plt.legend(loc = (1,0))"
   ]
  },
  {
   "cell_type": "code",
   "execution_count": null,
   "id": "521b5abd",
   "metadata": {},
   "outputs": [],
   "source": [
    "#Dat\n",
    "\n",
    "# Fixed_acidity line chart\n",
    "\n",
    "red_wine_fixed_acidity = df_red_wine['fixed acidity'].value_counts()\n",
    "white_wine_fixed_acidity = df_white_wine['fixed acidity'].value_counts()\n",
    "\n",
    "fig, axs = plt.subplots(1, 2, figsize=(10,5))\n",
    "\n",
    "plt.subplot(1,2,1)\n",
    "sns.lineplot(data = red_wine_fixed_acidity, color='r')\n",
    "plt.xlabel(\"fixed acidity\")\n",
    "plt.ylabel(\"samples\")\n",
    "plt.title(\"Red wine fixed acidity\", loc='right')\n",
    "\n",
    "plt.subplot(1,2,2)\n",
    "sns.lineplot(data = white_wine_fixed_acidity, color='b')\n",
    "plt.title(\"White wine fixed acidity\", loc='right')\n",
    "plt.xlabel(\"fixed acidity\")\n",
    "plt.ylabel(\"samples\")"
   ]
  },
  {
   "cell_type": "code",
   "execution_count": null,
   "id": "8888faaf",
   "metadata": {},
   "outputs": [],
   "source": [
    "#Dat\n",
    "\n",
    "# Volatile_acidity joint chart\n",
    "\n",
    "red_wine_volatile_acidity = df_red_wine['volatile acidity'].value_counts()\n",
    "white_wine_volatile_acidity = df_white_wine['volatile acidity'].value_counts()\n",
    "\n",
    "sns.jointplot(data=[red_wine_volatile_acidity, white_wine_volatile_acidity])\n",
    "plt.title(\"Red wine/White wine volatile acidity\", x=-3,y=-0.2, color='y')"
   ]
  },
  {
   "cell_type": "code",
   "execution_count": null,
   "id": "e9b773e9",
   "metadata": {},
   "outputs": [],
   "source": [
    "#Dat\n",
    "\n",
    "# Chlorides kdeplot\n",
    "\n",
    "# red_wine_chlorides = df_red_wine.iloc[:, 4]/df_red_wine.iloc[:, 4].sum()\n",
    "red_wine_chlorides = df_red_wine.iloc[:, 4]\n",
    "white_wine_chlorides = df_white_wine.iloc[:, 4]\n",
    "\n",
    "plt.figure(figsize = (10,5))\n",
    "sns.kdeplot(data = red_wine_chlorides, label = 'red wine', color = 'g')\n",
    "sns.kdeplot(data = white_wine_chlorides, label = 'white wine', color = 'purple')\n",
    "plt.title(\"Red wine/white wine chlorides comparison\")\n",
    "plt.legend()\n"
   ]
  },
  {
   "cell_type": "code",
   "execution_count": null,
   "id": "c4d87475",
   "metadata": {},
   "outputs": [],
   "source": [
    "#Dat\n",
    "\n",
    "fig, axs = plt.subplots(6, 2, figsize = (15,25))\n",
    "for i in range(6):\n",
    "    for j in range(2):\n",
    "        feature = ndarray_red_features[i, j]\n",
    "        sns.kdeplot(data = df_red_wine[feature], ax = axs[i, j], label = 'red wine', color = 'g')\n",
    "        sns.kdeplot(data = df_white_wine[feature], ax = axs[i, j], label = 'white wine', color = 'purple')\n",
    "        axs[i, j].set_xlabel(feature)\n",
    "        axs[i, j].set_ylabel('density')\n",
    "        axs[i, j].legend()\n",
    "        \n",
    "        "
   ]
  },
  {
   "cell_type": "code",
   "execution_count": null,
   "id": "1ad097fc",
   "metadata": {
    "scrolled": false
   },
   "outputs": [],
   "source": [
    "#Dat\n",
    "\n",
    "# Stripplot of quality/features\n",
    "\n",
    "fig, axes = plt.subplots(6, 2, figsize=(15, 25))\n",
    "for i in range(6):\n",
    "    for j in range(2):\n",
    "        sns.stripplot(x=\"quality\", y=ndarray_white_features[i, j], data=df_red_wine, ax=axes[i, j])\n",
    "        axes[i, j].set_title(f\"Stripplot of quality vs. {ndarray_white_features[i, j]}\")\n",
    "fig.tight_layout()"
   ]
  },
  {
   "cell_type": "markdown",
   "id": "8c563325",
   "metadata": {},
   "source": [
    "> lhieu12\n",
    "# Draft"
   ]
  },
  {
   "cell_type": "code",
   "execution_count": null,
   "id": "f797b4d7",
   "metadata": {},
   "outputs": [],
   "source": [
    "###Summary of Data set"
   ]
  },
  {
   "cell_type": "code",
   "execution_count": null,
   "id": "b6e45b79",
   "metadata": {},
   "outputs": [],
   "source": [
    "- In the above reference, two datasets were created, using red and white wine samples. \n",
    "- The inputs include objective tests (e.g. PH values) and the output is based on sensory data(median of at least 3 evaluations\n",
    "  made by wine experts). \n",
    "- Each expert graded the wine quality between 0 (very bad) and 10 (very excellent)."
   ]
  },
  {
   "cell_type": "code",
   "execution_count": null,
   "id": "2c981cfa",
   "metadata": {},
   "outputs": [],
   "source": [
    "###Relevant Information:\n",
    "- The classes are ordered and not balanced(the wine has quality from 5 to 7 much more than a half).\n",
    "- Outlier detection algorithms could be used to detect the few excellent or poor wines.\n",
    "- Also, we are not sure if all input variables are relevant.\n",
    "- Number of Instances: red wine - 1599; white wine - 4898. \n",
    "- Number of Attributes: 11 + output attribute.\n",
    "- Missing Attribute Values: None.\n"
   ]
  },
  {
   "cell_type": "code",
   "execution_count": null,
   "id": "9647ac8a",
   "metadata": {},
   "outputs": [],
   "source": [
    "###What are the data insights that can be seen from the dataset\n",
    "*To see which variables are likely to affect the quality of red wine the most,let take a look at correlation analysis of our \n",
    " independent variables against our dependent variable, quality.This analysis ended up with a list of variables of interest that \n",
    " had the highest correlations with quality.\n",
    "\n",
    "\n"
   ]
  },
  {
   "cell_type": "code",
   "execution_count": null,
   "id": "7452c728",
   "metadata": {},
   "outputs": [],
   "source": [
    "sns.heatmap(df_red_corr_matrix, cmap=\"Blues\", linewidths=0.5, cbar=True)"
   ]
  },
  {
   "cell_type": "code",
   "execution_count": null,
   "id": "795f07fb",
   "metadata": {},
   "outputs": [],
   "source": [
    "- Starting with our dependent variable, quality, we discovered the popularity of two average quality values: 5 and 6.\n",
    "  I discovered that our data is normally distributed after considering the transformation of the dependent variable.\n",
    "  This conclusion is supported by a histogram subplot, which demonstrates that there is no need to transform our data.\n"
   ]
  },
  {
   "cell_type": "code",
   "execution_count": null,
   "id": "dd844f6a",
   "metadata": {},
   "outputs": [],
   "source": [
    "plt.hist(df_red_wine['quality'])\n",
    "plt.ylabel('count')\n",
    "plt.xlabel('quality')\n",
    "plt.title('Histogram of quality')"
   ]
  },
  {
   "cell_type": "code",
   "execution_count": null,
   "id": "59ab7a8d",
   "metadata": {},
   "outputs": [],
   "source": [
    "- Let take a look at independent variables.\n",
    "- Three distinct patterns can be seen. For starters, there are positive correlations between quality and acid, alcohol, and \n",
    "  sulphates. Wines with a higher alcohol content may be less popular, but they should be highly rated in terms of quality. \n",
    "  Second, there are inverse correlations between quality and volatile. acidity, density, and pH. It stands to reason that less\n",
    "  sweet wines with lower acidity are preferred in quality tests. Finally, residual.sugar, chlorides, and total.sulfur.dioxide \n",
    "  have no significant relationship with quality."
   ]
  },
  {
   "cell_type": "code",
   "execution_count": null,
   "id": "c5f63520",
   "metadata": {},
   "outputs": [],
   "source": [
    "fig, axes = plt.subplots(6, 2, figsize=(15, 25))\n",
    "for i in range(6):\n",
    "    for j in range(2):\n",
    "        sns.boxplot(x=\"quality\", y=np_red_features_reshaped[i, j], data=df_red_wine, ax=axes[i, j])\n",
    "        axes[i, j].set_title(f\"Boxplot of quality vs. {np_red_features_reshaped[i, j]}\")\n",
    "fig.tight_layout()"
   ]
  },
  {
   "cell_type": "code",
   "execution_count": null,
   "id": "ed2418ef",
   "metadata": {},
   "outputs": [],
   "source": [
    "- Let look at "
   ]
  },
  {
   "cell_type": "code",
   "execution_count": null,
   "id": "aaac4798",
   "metadata": {},
   "outputs": [],
   "source": [
    "- Take a look at heatmap, we can see that there is a high correlation between alcohol, sulphates, citric acid, fixed acidity \n",
    "  and quality. "
   ]
  },
  {
   "cell_type": "code",
   "execution_count": null,
   "id": "3c7861d5",
   "metadata": {},
   "outputs": [],
   "source": [
    "sns.heatmap(df_red_corr_matrix, cmap=\"Blues\", linewidths=0.5, cbar=True)"
   ]
  },
  {
   "cell_type": "code",
   "execution_count": null,
   "id": "cbad6fb3",
   "metadata": {},
   "outputs": [],
   "source": []
  },
  {
   "cell_type": "markdown",
   "id": "61c05005",
   "metadata": {},
   "source": [
    "> hl271\n",
    "\n",
    "## 3. Suggest ML Algorithm to classify the wine's quality\n",
    "\n",
    "### Approach 1: Convert to Regression Problem: \n",
    "\n",
    "- Suggested Model\n",
    "    - Multiple Linear Regression Model\n",
    "- Feature Selection: Choose 4-5 most correlated features to wine's quality (Ex: alcohol, acid_citric, sulphate, volatile acidity) \n",
    "- Round up the predicted quality to integer value\n",
    "\n",
    "### Approach 2: Classification Problem\n",
    "\n",
    "- For simplifying purpose, we can use **binary classification**: classify wine's quality is \n",
    "    - bad if quality <=5\n",
    "    - good if quality >5\n",
    "- Suggested Models:\n",
    "    - Support Vector Classifier\n",
    "    - Decision Tree/ Random Forest Classifier"
   ]
  },
  {
   "cell_type": "markdown",
   "id": "845e4383",
   "metadata": {},
   "source": [
    "> hl271\n",
    "\n",
    "## 4. Suggest ML Algorithm to group wine based on its features\n",
    "- This is a **Clustering** problem\n",
    "- Suggested Model:\n",
    "    - K-Means"
   ]
  },
  {
   "cell_type": "code",
   "execution_count": null,
   "id": "1fefc418",
   "metadata": {},
   "outputs": [],
   "source": []
  }
 ],
 "metadata": {
  "kernelspec": {
   "display_name": "Python 3 (ipykernel)",
   "language": "python",
   "name": "python3"
  },
  "language_info": {
   "codemirror_mode": {
    "name": "ipython",
    "version": 3
   },
   "file_extension": ".py",
   "mimetype": "text/x-python",
   "name": "python",
   "nbconvert_exporter": "python",
   "pygments_lexer": "ipython3",
   "version": "3.10.5"
  }
 },
 "nbformat": 4,
 "nbformat_minor": 5
}
