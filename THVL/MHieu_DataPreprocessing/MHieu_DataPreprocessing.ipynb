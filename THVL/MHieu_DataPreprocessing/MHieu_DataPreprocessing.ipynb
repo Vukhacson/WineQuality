{
 "cells": [
  {
   "cell_type": "markdown",
   "id": "96706e38",
   "metadata": {},
   "source": [
    "# Data Normalization\n",
    "\"\"\"Def: Normalization is the process of organizing data in a database,which includes \n",
    "creating tables and establishing relationships between those tables according to rules designed both to protect the data and to make the database more flexible \n",
    "by eliminating redundancy and inconsistent dependency\n",
    "\n",
    "Sources: Microsoft \"\"\""
   ]
  },
  {
   "cell_type": "markdown",
   "id": "5914d2d5",
   "metadata": {},
   "source": [
    "# How to deal with missing values? - 5 examples"
   ]
  },
  {
   "cell_type": "markdown",
   "id": "01ba3323",
   "metadata": {},
   "source": [
    "## 1.Deleting row which has null-values\n",
    "\n",
    "df.dropna()\n",
    "\n",
    "\"\"\"Pros:\n",
    "Complete removal of data with missing values results in robust and highly accurate model\n",
    "Deleting a particular row or a column with no specific information is better, since it does not have a high weightage\n",
    "Cons:\n",
    "Loss of information and data\n",
    "Works poorly if the percentage of missing values is high (say 30%), compared to the whole dataset\"\"\""
   ]
  },
  {
   "cell_type": "markdown",
   "id": "cc131189",
   "metadata": {},
   "source": [
    "## 2. Replacing With Mean/Median/Mode\n",
    "\n",
    "df.fillna(df.mean())\n",
    "\n",
    "df.fillna(df.median())\n",
    "\n",
    "df[...] = df[...].fillna(df[...].mode())\n",
    "\n",
    "\"\"\" Pros:\n",
    "This is a better approach when the data size is small\n",
    "It can prevent data loss which results in removal of the rows and columns\n",
    "Cons:\n",
    "Imputing the approximations add variance and bias\n",
    "Works poorly compared to other multiple-imputations method\"\"\""
   ]
  },
  {
   "cell_type": "markdown",
   "id": "808a5ed4",
   "metadata": {},
   "source": [
    "## 3. Assigning An Unique Category\n",
    "\n",
    "df[...].fillna('U')\n",
    "\n",
    "\"\"\"Pros:\n",
    "Less possibilities with one extra category, resulting in low variance after one hot encoding — since it is categorical\n",
    "Negates the loss of data by adding an unique category\n",
    "Cons:\n",
    "Adds less variance\n",
    "Adds another feature to the model while encoding, which may result in poor performance\"\"\""
   ]
  },
  {
   "cell_type": "markdown",
   "id": "982b242c",
   "metadata": {},
   "source": [
    "## 4. Predicting The Missing Values\n",
    "\n",
    "### Step 1: Seperate the null values from dataframe (df) and create a variable \"test data\"\n",
    "\n",
    "test_data = df[df['C'].isnull()]\n",
    "\n",
    "### Step 2: Drop the null values from the dataframe (df) and represent as 'train data'\n",
    "\n",
    "df.dropna(inplace = True)\n",
    "\n",
    "### Step 3: Create \"x_train\" & \"y_train\" from train data\n",
    "\n",
    "x_train = df.drop('...', axis = 1) \n",
    "x_train\n",
    "y_train = df['']\n",
    "y_train\n",
    "\n",
    "### Step 4: Build the linear regression model\n",
    "\n",
    "from sklearn.linear_model import LinearRegression\n",
    "lr = LinearRegression()\n",
    "lr.fit(x_train, y_train)\n",
    "\n",
    "### Step 5: Create the x_test from test data\n",
    "\n",
    "x_test = test_data[]\n",
    "x_test \n",
    "\n",
    "### Step 6: Apply the model on x_test of test data to make predictions\n",
    "\n",
    "y_pred = lr.predict(x_test)\n",
    "y_fred\n",
    "\n",
    "### Step 7: Replacing the missing values with predicted values\n",
    "\n",
    "test_data['y_pred'] = y_pred\n",
    "test_data\n",
    " \n",
    "\"\"\" Pros: Imputing the missing variable is an improvement as long as the bias from the same is smaller than the omitted variable bias\n",
    "Yields unbiased estimates of the model parameters\n",
    "     Cons:\n",
    "Bias also arises when an incomplete conditioning set is used for a categorical variable\n",
    "Considered only as a proxy for the true values\"\"\"\n"
   ]
  },
  {
   "cell_type": "markdown",
   "id": "021dbb63",
   "metadata": {},
   "source": [
    "## 5. Using Algorithms which Support Missing Values\n",
    "\n"
   ]
  }
 ],
 "metadata": {
  "kernelspec": {
   "display_name": "Python 3 (ipykernel)",
   "language": "python",
   "name": "python3"
  },
  "language_info": {
   "codemirror_mode": {
    "name": "ipython",
    "version": 3
   },
   "file_extension": ".py",
   "mimetype": "text/x-python",
   "name": "python",
   "nbconvert_exporter": "python",
   "pygments_lexer": "ipython3",
   "version": "3.10.6"
  }
 },
 "nbformat": 4,
 "nbformat_minor": 5
}
